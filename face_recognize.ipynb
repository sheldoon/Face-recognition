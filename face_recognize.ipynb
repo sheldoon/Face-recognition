{
 "cells": [
  {
   "cell_type": "code",
   "execution_count": 1,
   "metadata": {},
   "outputs": [],
   "source": [
    "# import openCV\n",
    "import cv2"
   ]
  },
  {
   "cell_type": "code",
   "execution_count": 2,
   "metadata": {},
   "outputs": [],
   "source": [
    "#some parameters\n",
    "cap = cv2.VideoCapture(0)\n",
    "parametros = 'parameters.xml'\n",
    "classificador_cascade = cv2.CascadeClassifier(parametros)"
   ]
  },
  {
   "cell_type": "code",
   "execution_count": 3,
   "metadata": {},
   "outputs": [],
   "source": [
    "#function \n",
    "def detect_faces(imagem):\n",
    "    gray_img = cv2.cvtColor(imagem, cv2.COLOR_BGR2GRAY)\n",
    "    gray_img = cv2.equalizeHist(gray_img)\n",
    "    faces = classificador_cascade.detectMultiScale(gray_img,  scaleFactor = 1.05, minNeighbors = 10, minSize = (30, 30))\n",
    "    for(x,y, width, height) in faces:\n",
    "        center = (x + width//2, y + height//2)\n",
    "        cv2.rectangle(imagem, (x, y), (x+width, y+height), (0,0,255), 10)\n",
    "    cv2.imshow('Input', imagem)"
   ]
  },
  {
   "cell_type": "code",
   "execution_count": null,
   "metadata": {},
   "outputs": [],
   "source": [
    "# Check if the webcam is opened correctly\n",
    "if not cap.isOpened():\n",
    "    raise IOError(\"Cannot open webcam\")\n",
    "# Open webcam and detect faces\n",
    "while True:\n",
    "    ret, frame = cap.read()\n",
    "    cv2.imshow('Input', frame)\n",
    "    detect_faces(frame)\n",
    "    c = cv2.waitKey(1)\n",
    "    if c == 27:\n",
    "        break\n",
    "\n"
   ]
  }
 ],
 "metadata": {
  "kernelspec": {
   "display_name": "Python 3",
   "language": "python",
   "name": "python3"
  },
  "language_info": {
   "codemirror_mode": {
    "name": "ipython",
    "version": 3
   },
   "file_extension": ".py",
   "mimetype": "text/x-python",
   "name": "python",
   "nbconvert_exporter": "python",
   "pygments_lexer": "ipython3",
   "version": "3.11.0"
  },
  "orig_nbformat": 4,
  "vscode": {
   "interpreter": {
    "hash": "cde752f2695c1ca406364304e9d1f82ee1a0e4915ab703c559dc2e1fa0f54934"
   }
  }
 },
 "nbformat": 4,
 "nbformat_minor": 2
}
